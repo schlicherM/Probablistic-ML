{
 "cells": [
  {
   "cell_type": "markdown",
   "id": "a64bb59e",
   "metadata": {},
   "source": [
    "# Probabilistic Machine Learning\n",
    "<div style=\"text-align: right\"> University of Tübingen, Summer Term 2023  &copy; 2023 P. Hennig </div>\n",
    "\n",
    "## Exercise Sheet No. 2 — Laplace Approximations\n",
    "\n",
    "\n",
    "---\n",
    "\n",
    "Submission by:\n",
    "* FirstName1, Surname1, Matrikelnummer: MatrikelnummerOfFirstTeamMember\n",
    "* FirstName2, Surname2, Matrikelnummer: MatrikelnummerOfSecondTeamMember"
   ]
  },
  {
   "cell_type": "code",
   "execution_count": 8,
   "id": "d9acbc5a",
   "metadata": {
    "execution": {
     "iopub.execute_input": "2023-04-14T10:40:13.577988Z",
     "iopub.status.busy": "2023-04-14T10:40:13.577248Z",
     "iopub.status.idle": "2023-04-14T10:40:15.474851Z",
     "shell.execute_reply": "2023-04-14T10:40:15.474566Z",
     "shell.execute_reply.started": "2023-04-14T10:40:13.577930Z"
    },
    "tags": []
   },
   "outputs": [],
   "source": [
    "from io import StringIO\n",
    "\n",
    "import pandas as pd\n",
    "import requests\n",
    "\n",
    "import jax\n",
    "from jax import numpy as jnp\n",
    "from jax.scipy import optimize\n",
    "\n",
    "from matplotlib import pyplot as plt\n",
    "import matplotlib.tri as tri\n",
    "from matplotlib import ticker\n",
    "import numpy as np\n",
    "\n",
    "from tueplots import bundles\n",
    "from tueplots.constants.color import rgb\n",
    "\n",
    "\n",
    "plt.rcParams.update(bundles.beamer_moml())\n",
    "plt.rcParams.update({\"figure.dpi\": 200})\n"
   ]
  },
  {
   "cell_type": "markdown",
   "id": "412a4952",
   "metadata": {
    "execution": {
     "iopub.execute_input": "2023-04-14T10:44:44.538576Z",
     "iopub.status.busy": "2023-04-14T10:44:44.537924Z",
     "iopub.status.idle": "2023-04-14T10:44:45.726698Z",
     "shell.execute_reply": "2023-04-14T10:44:45.725509Z",
     "shell.execute_reply.started": "2023-04-14T10:44:44.538531Z"
    },
    "tags": []
   },
   "source": [
    "# Exercise 2.2 (Coding Exercise)\n",
    "\n",
    "\n",
    "In this exercise we are going to practice the Laplace approximation, as well as `jax`. You can use the functionality from `jax` whereever you want to. Your tasks are the following:\n",
    "\n",
    "**Task 1.** Implement the Beta distribution:\n",
    "\n",
    "$$ p_z(z) = Beta(z;a,b)$$\n",
    "\n",
    "You can do it yourself, or use `jax.scipy.stats.beta.pdf`.\n"
   ]
  },
  {
   "cell_type": "code",
   "execution_count": 9,
   "id": "3b7779bb",
   "metadata": {},
   "outputs": [],
   "source": [
    "def p_z(z, a, b):\n",
    "    \"\"\"Beta distribution p_z(z).\n",
    "    \n",
    "    Args:\n",
    "      z: Float, Argument of the beta distribution.\n",
    "      a: Float, Parameter of the beta distribution.\n",
    "      b: Float, Parameter of the beta distribution.\n",
    "      \n",
    "    Returns:\n",
    "      Value of the probability density function at z.\n",
    "    \"\"\"\n",
    "    # TODO\n",
    "    return ..."
   ]
  },
  {
   "cell_type": "markdown",
   "id": "90a56491",
   "metadata": {},
   "source": [
    "**Task 2.** What is the distribution $p_x(x)$ of $x$ if \n",
    "\n",
    "$$ z = logisitc(x) \\hspace{1cm} \\text{with } \\hspace{0.5cm} logistic(x) = 1/(1+exp(-x)?$$\n",
    "\n",
    "Implement it using the transformation rules from the lecture. `jax.jacrev` might be helpful for calculating Jacobians."
   ]
  },
  {
   "cell_type": "code",
   "execution_count": 10,
   "id": "ed3d9032",
   "metadata": {},
   "outputs": [],
   "source": [
    "def p_x(x, a, b):\n",
    "    \"\"\"Probability density function for x with z=logistic(x). \n",
    "    \n",
    "    Args:\n",
    "      z: Float, Argument of p_x.\n",
    "      a: Float, Parameter of the beta distribution of z.\n",
    "      b: Float, Parameter of the beta distribution of z.\n",
    "      \n",
    "    Returns:\n",
    "      Value of the probability density function p_x(x) at x.\n",
    "    \"\"\"\n",
    "    # TODO\n",
    "    return ..."
   ]
  },
  {
   "cell_type": "markdown",
   "id": "ec4588d0",
   "metadata": {},
   "source": [
    "**Task 3.** Compute the Laplace approximations for both,  $p_z(z)$ and $p_x(x)$."
   ]
  },
  {
   "cell_type": "code",
   "execution_count": 11,
   "id": "edefa2ad",
   "metadata": {},
   "outputs": [],
   "source": [
    "def laplace_z(a, b):\n",
    "    \"\"\"Laplace approximation for the beta distribution.\n",
    "    \n",
    "    Args:\n",
    "      a: Float, Parameter of the beta distribution.\n",
    "      b: Float, Parameter of the beta distribution.\n",
    "      \n",
    "    Returns:\n",
    "      A function with the same argument as the beta distribution. \n",
    "    \"\"\"\n",
    "    # TODO\n",
    "    return ...\n",
    "\n",
    "def laplace_x(a, b):\n",
    "    \"\"\"Laplace approximation for p_x with z=logistic(x). \n",
    "    \n",
    "    Args:\n",
    "      a: Float, Parameter of the beta distribution.\n",
    "      b: Float, Parameter of the beta distribution.\n",
    "      \n",
    "    Returns:\n",
    "      A function with the same argument as p_x. \n",
    "    \"\"\"\n",
    "    # TODO\n",
    "    return ..."
   ]
  },
  {
   "cell_type": "markdown",
   "id": "84d37a40",
   "metadata": {},
   "source": [
    "**Task 4.** Make a plot for $p_z(z)$ and it's Laplace approximation for the parameter combinations $a=2, b=3$ and $a=5, b=5$. Are there parameter combinations, where the Laplace approximation is undefined? Make the same plot for $x$, too."
   ]
  },
  {
   "cell_type": "code",
   "execution_count": 12,
   "id": "3b107e25",
   "metadata": {},
   "outputs": [],
   "source": [
    "# TODO: Plot \n",
    "\n",
    "# TODO: Plot "
   ]
  },
  {
   "cell_type": "markdown",
   "id": "76805079",
   "metadata": {},
   "source": [
    "**Task 5.** Implement the Dirichlet distribution\n",
    "\n",
    "$$ p_y(y) = Dirichlet(y; \\alpha)$$\n",
    "\n",
    "(alternative:`jax.scipy.stats.dirichlet.pdf`) and it's Laplace approximation. "
   ]
  },
  {
   "cell_type": "code",
   "execution_count": 13,
   "id": "925a8869",
   "metadata": {},
   "outputs": [],
   "source": [
    "def p_y(y, alpha):\n",
    "    \"\"\"Dirichlet distribution p_y(y).\n",
    "    \n",
    "    Args:\n",
    "      y: ArrayLike, Argument of the Dirichlet distribution.\n",
    "      alpha: ArrayLike, Parameter of the Dirichlet distribution.\n",
    "      \n",
    "    Returns:\n",
    "      Value of the probability density function at z.\n",
    "    \"\"\"\n",
    "    # TODO\n",
    "    return ...\n",
    "\n",
    "def laplace_y(alpha):\n",
    "    \"\"\"Laplace approximation for the Dirichlet distribution p_y. \n",
    "    \n",
    "    Args:\n",
    "      alpha: ArrayLike, Parameter of the Dirichlet distribution.\n",
    "      \n",
    "    Returns:\n",
    "      A function with the same argument as p_y. \n",
    "    \"\"\"\n",
    "    # TODO\n",
    "    return ..."
   ]
  },
  {
   "cell_type": "markdown",
   "id": "6ca1be8e",
   "metadata": {},
   "source": [
    "**Task 6.**\n",
    "For $\\alpha = (2, 10, 2)$ and $\\alpha = (3, 2, 5)$, plot $p_y(y)$ and it's Laplace approximation next to each other. The function `simplex_contour_plot` implemented below can help with contour plots over the simplex. You can adapt it in any way you like."
   ]
  },
  {
   "cell_type": "code",
   "execution_count": 14,
   "id": "5f0499fc",
   "metadata": {},
   "outputs": [],
   "source": [
    "# TODO: Plot\n",
    "\n",
    "def simplex_contour_plot(fun1, fun2):\n",
    "    \"\"\"Make contour plots for two functions, each defined over the probability simplex\n",
    "       represented by a triangualar surface.\n",
    "    \n",
    "    Args:\n",
    "      fun1: function, defined over the probability simplex in three dimensions.\n",
    "      fun2: function, defined over the probability simplex in three dimensions.\n",
    "      \n",
    "    Based on: https://blog.bogatron.net/blog/2014/02/02/visualizing-dirichlet-distributions/\n",
    "    \"\"\"\n",
    "    \n",
    "    # Define the triangle\n",
    "    corners = np.array([[0, 0], [1, 0], [0.5, 0.75**0.5]])\n",
    "    area = 0.5 * 1 * 0.75**0.5\n",
    "    triangle = tri.Triangulation(corners[:, 0], corners[:, 1])\n",
    "    refiner = tri.UniformTriRefiner(triangle)\n",
    "    trimesh = refiner.refine_triangulation(subdiv=8)\n",
    "    \n",
    "    # For each corner of the triangle, the pair of other corners\n",
    "    pairs = [corners[np.roll(range(3), -i)[1:]] for i in range(3)]\n",
    "    \n",
    "    # The area of the triangle formed by point xy and another pair or points\n",
    "    tri_area = lambda xy, pair: 0.5 * np.linalg.norm(np.cross(*(pair - xy)))\n",
    "    \n",
    "    # Convert cartesian to barycentric coordinates  \n",
    "    def xy2bc(xy, tol=1e-6):\n",
    "        coords = np.array([tri_area(xy, p) for p in pairs]) / area\n",
    "        return np.clip(coords, tol, 1.0 - tol)\n",
    "    \n",
    "    values1 = [fun1(xy2bc(xy)).item() for xy in zip(trimesh.x, trimesh.y)]\n",
    "    values2 = [fun2(xy2bc(xy)).item() for xy in zip(trimesh.x, trimesh.y)]\n",
    "    \n",
    "    fig, axes = plt.subplots(nrows=1, ncols=2, figsize=(5, 3))\n",
    "    axes[0].tricontourf(trimesh, values1)\n",
    "    axes[1].tricontourf(trimesh, values2)\n",
    "    axes[0].axis('equal')\n",
    "    axes[1].axis('equal')\n",
    "    axes[0].axis('off')\n",
    "    axes[1].axis('off')\n",
    "    plt.show()"
   ]
  },
  {
   "cell_type": "markdown",
   "id": "d86656cc",
   "metadata": {},
   "source": [
    "### How to submit your work:\n",
    "\n",
    "Export your answer into a pdf (for example using jupyter's `Save and Export Notebook as` feature in the `File` menu). Make sure to include all outputs, in particular plots. Also include your answer to the theory question, either by adding it as LaTeX code directly in the notebook, or by adding it as an extra page (e.g. a scan) to the pdf. Submit the exercise on Ilias, in the associated folder. **Do not forget to add your name(s) and matricel number(s) above!)**"
   ]
  }
 ],
 "metadata": {
  "kernelspec": {
   "display_name": "Python 3 (ipykernel)",
   "language": "python",
   "name": "python3"
  },
  "language_info": {
   "codemirror_mode": {
    "name": "ipython",
    "version": 3
   },
   "file_extension": ".py",
   "mimetype": "text/x-python",
   "name": "python",
   "nbconvert_exporter": "python",
   "pygments_lexer": "ipython3",
   "version": "3.10.7"
  }
 },
 "nbformat": 4,
 "nbformat_minor": 5
}
